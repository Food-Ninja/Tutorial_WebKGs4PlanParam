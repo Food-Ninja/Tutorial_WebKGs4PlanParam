{
 "cells": [
  {
   "cell_type": "markdown",
   "id": "bced4a95-8d5f-4820-aecb-3fa0a28bbcfc",
   "metadata": {},
   "source": [
    "# <b>Querying a knowledge graph using python</b>"
   ]
  },
  {
   "cell_type": "markdown",
   "id": "26f4cc82",
   "metadata": {},
   "source": [
    "## 1. Set parameters for queries\n",
    "This Tutorial is based on general action plans of cutting as shown in the presentation. The example scenario is based on the assumption, that a given robot is performing meal preparation tasks in a kitchen. It is given <b>two</b> parameters: <b>a task, and an object</b>. Currently, we are not looking at how these parameters are passed to the robot. Future work will extract these parameters from recipe instructions or natural language text, but right now we just pass them over to the robot. For doing this, we will use a simple dropdown menu in this file.\n",
    "\n",
    "This step terefore will open a dropdown so you can choose parameters for the following queries. "
   ]
  },
  {
   "cell_type": "code",
   "execution_count": null,
   "id": "93dde8a4",
   "metadata": {},
   "outputs": [],
   "source": [
    "import ipywidgets as widgets\n",
    "from ipywidgets import HBox\n",
    "\n",
    "# all available parameters\n",
    "tasks = [('Cutting Action',\"cut:CuttingAction\"),\n",
    "        ('Quartering', \"cut:Quartering\"),\n",
    "        ('Julienning',\"cut:Julienning\"),\n",
    "        ('Halving',\"cut:Halving\"),\n",
    "        ('Dicing',\"soma:Dicing\"),\n",
    "        ('Cutting',\"soma:Cutting\"),\n",
    "        ('Slicing',\"soma:Slicing\"),\n",
    "        ('Snipping',\"cut:Snipping\"),\n",
    "        ('Slivering',\"cut:Slivering\"),\n",
    "        ('Sawing',\"cut:Sawing\"),\n",
    "        ('Paring',\"cut:Paring\"),\n",
    "        ('Carving',\"cut:Carving\"),\n",
    "        ('Mincing',\"cut:Mincing\"),\n",
    "        ('Cubing',\"cut:Cubing\"),\n",
    "        ('Chopping',\"cut:Chopping\")]\n",
    "\n",
    "objects=[('almond', \"obo:FOODON_00003523\"),\n",
    "        ('apple', \"obo:FOODON_03301710\"),\n",
    "        ('avocado', \"obo:FOODON_00003600\"),\n",
    "        ('banana', \"obo:FOODON_00004183\"),\n",
    "        ('bean', \"obo:FOODON_03301403\"),      \n",
    "        ('cherry', \"obo:FOODON_03301240\"),\n",
    "        ('citron', \"obo:FOODON_03306596\"),\n",
    "        ('coconut', \"obo:FOODON_00003449\"),     \n",
    "        ('cucumber', \"obo:FOODON_00003415\"),\n",
    "        ('kiwi', \"obo:FOODON_00004387\"), \n",
    "        ('kumquat', \"obo:FOODON_03306597\"),\n",
    "        ('lemon', \"obo:FOODON_03301441\"),\n",
    "        ('lime', \"obo:FOODON_00003661\"),\n",
    "        ('olive', \"obo:FOODON_03317509\"),\n",
    "        ('orange', \"obo:FOODON_03309832\"),\n",
    "        ('peach', \"obo:FOODON_03315502\"), \n",
    "        ('pepper', \"obo:FOODON_00003520\"),\n",
    "        ('pineapple', \"obo:FOODON_00003459\"),\n",
    "        ('pumpkin', \"obo:FOODON_00003486\"),\n",
    "        ('strawberry', \"obo:FOODON_00003443\"),        \n",
    "        ('squash', \"obo:FOODON_00003539\"),\n",
    "        ('tomato', \"obo:FOODON_03309927\")]\n",
    "\n",
    "task=\"\"\n",
    "tobject=\"\"\n",
    "\n",
    "# Takes a Task of the tasks list. \n",
    "# Then makes the previously initialized task variable global and assigns value of the given Task to it \n",
    "def chooseTask(Task):\n",
    "    global task\n",
    "    task=Task\n",
    "    \n",
    "# Takes an Object of the object list.\n",
    "# Then makes the previously initialized tobject variable global and assigns value of the given Object to it \n",
    "def chooseObject(Object):\n",
    "    global tobject\n",
    "    tobject=Object\n",
    "    \n",
    "# Create the dropdown widgets\n",
    "task_widget = widgets.Dropdown(options=tasks, description='Task:')\n",
    "object_widget = widgets.Dropdown(options=objects, description='Object:')\n",
    "\n",
    "# Define the event handlers\n",
    "def taskEvent(event):\n",
    "    chooseTask(event.new)\n",
    "\n",
    "def objectEvent(event):\n",
    "    chooseObject(event.new)\n",
    "    \n",
    "# Attach the event handlers to the widgets\n",
    "task_widget.observe(taskEvent, names='value')\n",
    "object_widget.observe(objectEvent, names='value')\n",
    "\n",
    "# Combine the widgets using HBox\n",
    "widgets_display = HBox([task_widget, object_widget])\n",
    "\n",
    "# Display widgets\n",
    "widgets_display\n",
    "\n",
    "# optional: set Parameters manually:\n",
    "#task = \"cut:Quartering\"\n",
    "#tobject = \"obo:FOODON_03301710\""
   ]
  },
  {
   "cell_type": "markdown",
   "id": "fd3a6a18",
   "metadata": {},
   "source": [
    "## 2. import rdflib for querying the knowledge graph for action parameters\n",
    "This step is needed to load libraries for execution of the queries"
   ]
  },
  {
   "cell_type": "code",
   "execution_count": null,
   "id": "4e594054",
   "metadata": {},
   "outputs": [],
   "source": [
    "import requests\n",
    "\n",
    "!pip install rdflib\n",
    "# import rdflib\n",
    "from rdflib import Graph, Namespace\n",
    "# rdflib knows about quite a few popular namespaces, like W3C ontologies, schema.org etc\n",
    "from rdflib.namespace import OWL, RDF, RDFS"
   ]
  },
  {
   "cell_type": "markdown",
   "id": "682168e0",
   "metadata": {},
   "source": [
    "## 3. Setup & parse the knowledge graph from its GitHub repo"
   ]
  },
  {
   "cell_type": "code",
   "execution_count": null,
   "id": "7633cadf",
   "metadata": {},
   "outputs": [],
   "source": [
    "url = \"https://raw.githubusercontent.com/Food-Ninja/CuttingFood/main/owl/food_cutting.owl\"\n",
    "response = requests.get(url)\n",
    "\n",
    "g = Graph()\n",
    "g.parse(data=response.content, format='xml')\n",
    "\n",
    "# define prefixes to be used in the query \n",
    "CUT = Namespace(\"http://www.ease-crc.org/ont/food_cutting#\")\n",
    "OBO = Namespace(\"http://purl.obolibrary.org/obo/\")\n",
    "SOMA = Namespace(\"http://www.ease-crc.org/ont/SOMA.owl#\")\n",
    "SIT_AWARE = Namespace(\"http://www.ease-crc.org/ont/situation_awareness#\")\n",
    "\n",
    "g.bind(\"owl\", OWL)\n",
    "g.bind(\"rdf\", RDF)\n",
    "g.bind(\"rdfs\", RDFS)\n",
    "g.bind(\"soma\", SOMA)\n",
    "g.bind(\"sit_aware\", SIT_AWARE)\n",
    "g.bind(\"cut\", CUT)\n",
    "g.bind(\"obo\", OBO)"
   ]
  },
  {
   "cell_type": "markdown",
   "id": "7474e1b8",
   "metadata": {},
   "source": [
    "--------------------------------------------------------------------------------------------------------------------------------\n",
    "# <b>Now let us start with querying the knowledge graph!</b>\n",
    "## Query 1: We can query for the tool to be used for the chosen task:\n",
    "With this query, a robot can determine which tool shall be used for the cutting task"
   ]
  },
  {
   "cell_type": "code",
   "execution_count": null,
   "id": "9081b19a",
   "metadata": {},
   "outputs": [],
   "source": [
    "tool_query = f\"\"\"\n",
    "SELECT ?res WHERE {{\n",
    "    {tobject} rdfs:subClassOf* ?peel_dis.\n",
    "    ?peel_dis owl:onProperty soma:hasDisposition.\n",
    "    ?peel_dis owl:someValuesFrom ?peel_dis_vals.\n",
    "    ?peel_dis_vals owl:intersectionOf ?afford_vals.\n",
    "    ?afford_vals rdf:first sit_aware:Cuttability.\n",
    "    ?afford_vals rdf:rest ?task_trigger.\n",
    "    ?task_trigger rdf:rest ?trigger.\n",
    "    ?trigger rdf:first ?trigger_wo_nil.\n",
    "    ?trigger_wo_nil owl:onProperty soma:affordsTrigger.\n",
    "    ?trigger_wo_nil owl:allValuesFrom ?trigger_tool.\n",
    "    ?trigger_tool owl:allValuesFrom ?tool.\n",
    "    BIND(REPLACE(STR(?tool), \"^.*[#/]\", \"\") AS ?res).\n",
    "}}\n",
    "\"\"\"\n",
    "\n",
    "for row in g.query(tool_query):\n",
    "    print(row.res)"
   ]
  },
  {
   "cell_type": "markdown",
   "id": "5b0d7137",
   "metadata": {},
   "source": [
    "# Query 2a: The robot needs to know if additional actions need to be executed:\n",
    "Additional actions like peeling or core removal can be queried here. This helps the robot to determine if it can proceed with cutting or needs to perform a different task beforehand."
   ]
  },
  {
   "cell_type": "code",
   "execution_count": null,
   "id": "e46448b3",
   "metadata": {},
   "outputs": [],
   "source": [
    "additional_actions_query = f\"\"\"\n",
    "SELECT ?action WHERE {{ \n",
    "  {tobject} rdfs:subClassOf ?restriction.\n",
    "  ?restriction owl:onProperty cut:hasPart.\n",
    "  ?restriction owl:someValuesFrom ?node.\n",
    "  ?node owl:intersectionOf ?intersec.\n",
    "  ?intersec rdf:first ?foodpart.\n",
    "  ?intersec rdf:rest ?node2.\n",
    "  ?node2 rdf:first ?part.\n",
    "  ?part owl:onProperty cut:hasEdibility.\n",
    "  {{?part owl:someValuesFrom cut:ShouldBeAvoided.}}\n",
    "  UNION\n",
    "  {{?part owl:someValuesFrom cut:MustBeAvoided.}}\n",
    "  ?foodpart rdfs:subClassOf ?partrestriction.\n",
    "  ?partrestriction owl:onProperty soma:hasDisposition.\n",
    "  ?partrestriction owl:someValuesFrom ?partnode.\n",
    "  ?partnode owl:intersectionOf ?intersection.\n",
    "  ?intersection rdf:first ?disposition.\n",
    "  ?intersection rdf:rest ?actionrestriction.\n",
    "  ?actionrestriction rdf:first ?actionnode.\n",
    "  ?actionnode owl:onProperty soma:affordsTask.\n",
    "  ?actionnode owl:someValuesFrom ?action.\n",
    "}}\n",
    "\"\"\"\n",
    "\n",
    "for row in g.query(additional_actions_query):\n",
    "    print(row.action)"
   ]
  },
  {
   "cell_type": "markdown",
   "id": "adadb33d",
   "metadata": {},
   "source": [
    "# Query 2b: The robot needs to know if prior actions need to be executed:\n",
    "Prior actions like halving before quartering can be queried here. This helps the robot to determine how often it needs to perform motions."
   ]
  },
  {
   "cell_type": "code",
   "execution_count": null,
   "id": "3261da0f",
   "metadata": {},
   "outputs": [],
   "source": [
    "prior_action_query = f\"\"\"\n",
    "SELECT ?res WHERE {{\n",
    "    {task} rdfs:subClassOf* ?sub.\n",
    "    ?sub owl:onProperty cut:requiresPriorTask .\n",
    "    ?sub owl:someValuesFrom ?priortask.\n",
    "    BIND(REPLACE(STR(?priortask), \"^.*[#/]\", \"\") AS ?res).\n",
    "}}\n",
    "\"\"\"\n",
    "\n",
    "for row in g.query(prior_action_query):\n",
    "    print(row.res)"
   ]
  },
  {
   "cell_type": "markdown",
   "id": "0e9d0dea",
   "metadata": {},
   "source": [
    "# Query 3: The robot needs to also know the number of repetitions required for performing the task:\n",
    "It is important to determine the needed number of repetitions in order to know when a task is finished."
   ]
  },
  {
   "cell_type": "code",
   "execution_count": null,
   "id": "30bb1400",
   "metadata": {},
   "outputs": [],
   "source": [
    "repetitions_query = f\"\"\"\n",
    "SELECT ?res WHERE {{\n",
    "    {{\n",
    "        {task} rdfs:subClassOf* ?rep_node.\n",
    "        ?rep_node owl:onProperty cut:repetitions.\n",
    "        FILTER EXISTS {{\n",
    "            ?rep_node owl:hasValue ?val.\n",
    "            }}\n",
    "        BIND(\"exactly 1\" AS ?res)\n",
    "    }}\n",
    "    UNION\n",
    "    {{\n",
    "        {task} rdfs:subClassOf* ?rep_node.\n",
    "        ?rep_node owl:onProperty cut:repetitions.\n",
    "        FILTER EXISTS {{\n",
    "            ?rep_node owl:minQualifiedCardinality ?val.\n",
    "        }}\n",
    "        BIND(\"at least 1\" AS ?res)\n",
    "    }}\n",
    "}}\n",
    "\"\"\"\n",
    "\n",
    "for row in g.query(repetitions_query):\n",
    "    print(row.res)"
   ]
  },
  {
   "cell_type": "markdown",
   "id": "24e46ae0",
   "metadata": {},
   "source": [
    "# Query 4: The position needed for action execution:\n",
    "It is important to know where to cut an object."
   ]
  },
  {
   "cell_type": "code",
   "execution_count": null,
   "id": "0a7e2f9a",
   "metadata": {},
   "outputs": [],
   "source": [
    "position_query = f\"\"\"\n",
    "SELECT ?res WHERE {{\n",
    "    {task} rdfs:subClassOf* ?pos_node.\n",
    "    ?pos_node owl:onProperty cut:affordsPosition.\n",
    "    ?pos_node owl:someValuesFrom ?pos.\n",
    "    BIND(REPLACE(STR(?pos), \"^.*[#/]\", \"\") AS ?res).\n",
    "}}\n",
    "\"\"\"\n",
    "\n",
    "for row in g.query(position_query):\n",
    "    print(row.res)"
   ]
  },
  {
   "cell_type": "markdown",
   "id": "1c8c588f",
   "metadata": {},
   "source": [
    "# Query 5: What is the expected input form of the object that shall be cut:\n",
    "When cutting a fruit, for some subtasks the robot does not cut the whole food object but a slice, or a stripe."
   ]
  },
  {
   "cell_type": "code",
   "execution_count": null,
   "id": "5ab5a38c",
   "metadata": {},
   "outputs": [],
   "source": [
    "input_query = f\"\"\"\n",
    "SELECT ?res WHERE {{\n",
    "    {{\n",
    "        {task} rdfs:subClassOf* ?inter_node.\n",
    "        ?inter_node owl:intersectionOf ?in_res_node.\n",
    "        ?in_res_node rdf:first ?input_node.\n",
    "        ?input_node owl:onProperty cut:hasInputObject.\n",
    "        ?input_node owl:someValuesFrom ?target.\n",
    "        FILTER NOT EXISTS {{\n",
    "            ?target owl:unionOf ?union_node.\n",
    "        }}\n",
    "        BIND(REPLACE(STR(?target), \"^.*[#/]\", \"\") AS ?res).\n",
    "    }}\n",
    "    UNION\n",
    "    {{\n",
    "        {task} rdfs:subClassOf* ?inter_node.\n",
    "        ?inter_node owl:intersectionOf ?in_res_node.\n",
    "        ?in_res_node rdf:first ?input_node.\n",
    "        ?input_node owl:onProperty cut:hasInputObject.\n",
    "        ?input_node owl:someValuesFrom ?targets_node.\n",
    "        ?targets_node owl:unionOf ?union_node.\n",
    "        # Recursive traversal of rdf:first and rdf:rest\n",
    "        {{\n",
    "            ?union_node rdf:first ?target.\n",
    "            BIND(REPLACE(STR(?target), \"^.*[#/]\", \"\") AS ?res).\n",
    "        }}\n",
    "        UNION\n",
    "        {{\n",
    "            ?union_node rdf:rest*/rdf:first ?target.\n",
    "            BIND(REPLACE(STR(?target), \"^.*[#/]\", \"\") AS ?res).\n",
    "        }}\n",
    "    }}\n",
    "}}\n",
    "\"\"\"\n",
    "\n",
    "for row in g.query(input_query):\n",
    "    print(row.res)"
   ]
  },
  {
   "cell_type": "markdown",
   "id": "7c0aee12",
   "metadata": {},
   "source": [
    "# Query 6: What is the expected output form of the object that shall be cut:"
   ]
  },
  {
   "cell_type": "code",
   "execution_count": null,
   "id": "ef2af413",
   "metadata": {},
   "outputs": [],
   "source": [
    "output_query = f\"\"\"\n",
    "SELECT ?res ?cardinality WHERE {{\n",
    "    {{\n",
    "        {task} rdfs:subClassOf* ?inter_node.\n",
    "        ?inter_node owl:intersectionOf ?in_res_node.\n",
    "        ?in_res_node rdf:rest*/rdf:first ?result_node.\n",
    "        ?result_node owl:onProperty cut:hasResultObject.\n",
    "        # Handling \"someValuesFrom\" (no explicit cardinality)\n",
    "        OPTIONAL {{\n",
    "            ?result_node owl:someValuesFrom ?target.\n",
    "            BIND(\"some\" AS ?cardinality).\n",
    "        }}\n",
    "        # Handling \"exactly X\" constraints (qualified cardinality)\n",
    "        OPTIONAL {{\n",
    "            ?result_node owl:qualifiedCardinality ?card.\n",
    "            ?result_node owl:onClass ?target.\n",
    "            BIND(STR(?card) AS ?cardinality).\n",
    "        }}\n",
    "        # Handling \"exactly X\" constraints (non-qualified cardinality)\n",
    "        OPTIONAL {{\n",
    "            ?result_node owl:cardinality ?card.\n",
    "            BIND(STR(?card) AS ?cardinality).\n",
    "        }}\n",
    "        BIND(REPLACE(STR(?target), \"^.*[#/]\", \"\") AS ?res).\n",
    "    }}\n",
    "}}\n",
    "\"\"\"\n",
    "\n",
    "for row in g.query(output_query):\n",
    "    print(f'{row.cardinality}x {row.res}')"
   ]
  },
  {
   "cell_type": "code",
   "execution_count": null,
   "id": "ea1a996b",
   "metadata": {},
   "outputs": [],
   "source": []
  }
 ],
 "metadata": {
  "kernelspec": {
   "display_name": "Python 3 (ipykernel)",
   "language": "python",
   "name": "python3"
  },
  "language_info": {
   "codemirror_mode": {
    "name": "ipython",
    "version": 3
   },
   "file_extension": ".py",
   "mimetype": "text/x-python",
   "name": "python",
   "nbconvert_exporter": "python",
   "pygments_lexer": "ipython3",
   "version": "3.8.10"
  }
 },
 "nbformat": 4,
 "nbformat_minor": 5
}
